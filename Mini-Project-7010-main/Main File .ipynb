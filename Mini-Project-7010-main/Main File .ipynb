{
 "cells": [
  {
   "cell_type": "code",
   "execution_count": null,
   "id": "03665f00",
   "metadata": {},
   "outputs": [],
   "source": [
    "import cv2\n",
    "from keras.models import model_from_json\n",
    "import numpy as np\n",
    "# from keras_preprocessing.image import load_img\n",
    "json_file = open(\"facialemotionmodel.json\", \"r\")\n",
    "model_json = json_file.read()\n",
    "json_file.close()\n",
    "model = model_from_json(model_json)\n",
    "\n",
    "model.load_weights(\"facialemotionmodel.h5\")\n",
    "haar_file=cv2.data.haarcascades + 'haarcascade_frontalface_default.xml'\n",
    "face_cascade=cv2.CascadeClassifier(haar_file)\n",
    "\n",
    "def extract_features(image):\n",
    "    feature = np.array(image)\n",
    "    feature = feature.reshape(1,48,48,1)\n",
    "    return feature/255.0\n",
    "\n",
    "webcam=cv2.VideoCapture(0)\n",
    "labels = {0 : 'angry', 1 : 'disgust', 2 : 'fear', 3 : 'happy', 4 : 'neutral', 5 : 'sad', 6 : 'surprise'}\n",
    "while True:\n",
    "    i,im=webcam.read()\n",
    "    gray=cv2.cvtColor(im,cv2.COLOR_BGR2GRAY)\n",
    "    faces=face_cascade.detectMultiScale(im,1.3,5)\n",
    "    try: \n",
    "        for (p,q,r,s) in faces:\n",
    "            image = gray[q:q+s,p:p+r]\n",
    "            cv2.rectangle(im,(p,q),(p+r,q+s),(255,0,0),2)\n",
    "            image = cv2.resize(image,(48,48))\n",
    "            img = extract_features(image)\n",
    "            pred = model.predict(img)\n",
    "            prediction_label = labels[pred.argmax()]\n",
    "            # print(\"Predicted Output:\", prediction_label)\n",
    "            # cv2.putText(im,prediction_label)\n",
    "            cv2.putText(im, '% s' %(prediction_label), (p-10, q-10),cv2.FONT_HERSHEY_COMPLEX_SMALL,2, (0,0,255))\n",
    "        cv2.imshow(\"Output\",im)\n",
    "        cv2.waitKey(27)\n",
    "    except cv2.error:\n",
    "        pass"
   ]
  },
  {
   "cell_type": "code",
   "execution_count": null,
   "id": "3b0f22da",
   "metadata": {},
   "outputs": [],
   "source": []
  },
  {
   "cell_type": "code",
   "execution_count": null,
   "id": "63279b9a",
   "metadata": {},
   "outputs": [],
   "source": []
  }
 ],
 "metadata": {
  "kernelspec": {
   "display_name": "Python 3 (ipykernel)",
   "language": "python",
   "name": "python3"
  },
  "language_info": {
   "codemirror_mode": {
    "name": "ipython",
    "version": 3
   },
   "file_extension": ".py",
   "mimetype": "text/x-python",
   "name": "python",
   "nbconvert_exporter": "python",
   "pygments_lexer": "ipython3",
   "version": "3.11.5"
  }
 },
 "nbformat": 4,
 "nbformat_minor": 5
}
